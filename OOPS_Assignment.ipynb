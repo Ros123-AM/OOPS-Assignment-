{
  "nbformat": 4,
  "nbformat_minor": 0,
  "metadata": {
    "colab": {
      "provenance": []
    },
    "kernelspec": {
      "name": "python3",
      "display_name": "Python 3"
    },
    "language_info": {
      "name": "python"
    }
  },
  "cells": [
    {
      "cell_type": "markdown",
      "source": [
        "# OOPS Assignment"
      ],
      "metadata": {
        "id": "STgDaqsOl2gY"
      }
    },
    {
      "cell_type": "markdown",
      "source": [
        "1. What is Object-Oriented Programming (OOP)?"
      ],
      "metadata": {
        "id": "C4ncrAwMl7cZ"
      }
    },
    {
      "cell_type": "markdown",
      "source": [
        "Ans- Object-Oriented Programming (OOP) is a programming paradigm that organizes software design around objects rather than functions or logic. An object is an instance of a class, and it can hold both data (attributes) and methods (functions or procedures that can act on the data).\n",
        "\n",
        "OOP allows for better structure, modularity, and reusability of code.         \n",
        "\n",
        "- OOP allows for better structure, modularity, and reusability of code. It is based on four fundamental principles:                                       \n",
        "  - Encapsulation : This refers to bundling the data (attributes) and the methods (functions) that operate on the data into a single unit called a class. It also involves restricting access to some of the object's components by using access modifiers like private or public, which ensures that data is accessed and modified in controlled ways.                                                               \n",
        "  - Abstraction : Abstraction hides complex implementation details and only exposes the essential features of an object. This allows the user to focus on what the object does rather than how it does it.                          \n",
        "  - Inheritance : Inheritance allows one class (child or subclass) to inherit the attributes and methods from another class (parent or superclass). This promotes code reusability and a hierarchical relationship between classes.   \n",
        "  - Polymorphism : Polymorphism allows objects of different classes to be treated as objects of a common superclass. It enables one interface to be used for different data types. This can be achieved through method overriding (in subclasses) and method overloading (using different parameters in methods)."
      ],
      "metadata": {
        "id": "nWcTno38mATq"
      }
    },
    {
      "cell_type": "markdown",
      "source": [
        "2. What is a class in OOP?"
      ],
      "metadata": {
        "id": "MSKfVIqOmUrC"
      }
    },
    {
      "cell_type": "markdown",
      "source": [
        "Ans- In Object-Oriented Programming (OOP), a class is a blueprint or template for creating objects. It defines the attributes (also called properties or fields) and methods (also called functions or behaviors) that the objects created from the class will have.\n",
        "\n",
        "A class acts as a blueprint for creating instances of objects, but it itself is not an object—it's just a structure that defines the object’s state and behavior.                                                                   \n",
        "- Key Components of a Class:\n",
        "Attributes (or Fields): These are the variables or data that are associated with the class and its instances. They define the properties or characteristics of an object.\n",
        "\n",
        "  - Example: In a Car class, attributes could include color, model, speed, etc.\n",
        "\n",
        "- Methods (or Functions): These are the actions or behaviors that the class can perform. Methods operate on the attributes and can manipulate the data within the object.\n",
        "\n",
        "  - Example: In a Car class, methods could include accelerate(), brake(), or getSpeed().\n",
        "\n",
        "- Constructor (or Initializer): This is a special method that is automatically called when an object is created. It's typically used to initialize the attributes of an object when it is first created.\n",
        "  - Example: In a Car class, a constructor might set the initial values for color, model, and speed.\n"
      ],
      "metadata": {
        "id": "Nbpc9fzwmYED"
      }
    },
    {
      "cell_type": "markdown",
      "source": [
        "3. What is an object in OOP?"
      ],
      "metadata": {
        "id": "QY7rxjEOmuuS"
      }
    },
    {
      "cell_type": "markdown",
      "source": [
        "Ans- In Object-Oriented Programming (OOP), an object is an instance of a class. It represents a specific entity with attributes (data) and methods (functions) defined by the class. Objects are the actual real-world entities that interact with each other through their methods and hold their own state based on the values assigned to their attributes.                                            \n",
        "\n",
        "Key Characteristics of an Object:\n",
        "- State (Attributes/Properties): The state of an object is represented by its attributes (variables or fields). These attributes store data about the object.\n",
        " - Example: For a Car object, attributes could be color, model, speed, etc.\n",
        "- Behavior (Methods/Functions): The behavior of an object is defined by the methods or functions that are part of its class. These methods perform actions on the object's data or interact with other objects.\n",
        " - Example: A Car object might have methods like accelerate(), brake(), and getSpeed().\n",
        "- Identity: Every object has a unique identity, even if two objects share the same class and have the same attribute values. The identity distinguishes one object from another in memory."
      ],
      "metadata": {
        "id": "CBSzz4gbmzbj"
      }
    },
    {
      "cell_type": "markdown",
      "source": [
        "4. What is the difference between abstraction and encapsulation?"
      ],
      "metadata": {
        "id": "ItkJwp-6oo-Y"
      }
    },
    {
      "cell_type": "markdown",
      "source": [
        "Ans- Abstraction :\n",
        " - Abstraction is the concept of hiding complex implementation details and exposing only the essential features or functionalities to the user. It focuses on what an object does, rather than how it does it.\n",
        " - Purpose: To simplify the interaction with objects by only providing relevant information.\n",
        " - How it works: Abstraction is typically achieved through abstract classes and interfaces (depending on the language). These structures allow you to define abstract methods that specify what an object should do without detailing how it should do it.                                                        \n",
        "\n",
        "  Encapsulation :                                                          \\\n",
        "\n",
        "- Encapsulation refers to the concept of bundling data and the methods that operate on that data into a single unit, i.e., a class, and restricting direct access to some of the object's components. It helps in protecting the internal state of an object by making its attributes private and providing public methods to access or modify them.\n",
        "\n",
        "- Purpose: To protect the integrity of the object by controlling access to its internal state (attributes).\n",
        "\n",
        "- How it works: Encapsulation is typically implemented through access modifiers (like private, protected, public) to control visibility. Public getter and setter methods are often used to access or modify the private attributes."
      ],
      "metadata": {
        "id": "o461WcJ6oshR"
      }
    },
    {
      "cell_type": "markdown",
      "source": [
        "5. What are dunder methods in Python?"
      ],
      "metadata": {
        "id": "-_y2zmiipQRC"
      }
    },
    {
      "cell_type": "markdown",
      "source": [
        "Ans-  In Python, dunder methods (short for double underscore methods) are special methods that have double underscores (__) before and after their names. They are also known as magic methods or special methods, and they allow you to define or override the behavior of fundamental operations for your custom objects.\n",
        "\n",
        "- These methods are usually not called directly by the programmer; instead, they are automatically invoked when specific operations or syntax are used on an object. For example, the __init__ method is a dunder method that is automatically called when an object is instantiated, and __add__ is called when the + operator is used with an object."
      ],
      "metadata": {
        "id": "iqY20u0MpUN7"
      }
    },
    {
      "cell_type": "markdown",
      "source": [
        "6. Explain the concept of inheritance in OOP?"
      ],
      "metadata": {
        "id": "E_ejwvSupzO5"
      }
    },
    {
      "cell_type": "markdown",
      "source": [
        "Ans- In Object-Oriented Programming (OOP), inheritance is a fundamental concept that allows one class (known as a subclass or child class) to inherit properties and behaviors (attributes and methods) from another class (known as the superclass or parent class). This helps to reuse code, extend functionality, and promote a hierarchical relationship between classes.        \n",
        "Key Points of Inheritance:\n",
        "- Reuse of Code: Inheritance allows a subclass to use the methods and attributes of its parent class, so you don't need to write the same code multiple times.\n",
        "\n",
        "- Extending Functionality: A subclass can add its own attributes and methods, or override existing ones from the parent class, to provide more specific behavior.\n",
        "- Hierarchical Structure: Inheritance establishes a relationship where subclasses are specialized versions of a more general superclass."
      ],
      "metadata": {
        "id": "6SsndE6Ip6lQ"
      }
    },
    {
      "cell_type": "markdown",
      "source": [
        "7. What is polymorphism in OOP?"
      ],
      "metadata": {
        "id": "SemIJfAxqOa6"
      }
    },
    {
      "cell_type": "markdown",
      "source": [
        "Ans-  Polymorphism is one of the core principles of Object-Oriented Programming (OOP), and it refers to the ability of different objects to respond to the same method or operation in different ways. The term polymorphism comes from the Greek words \"poly\" (many) and \"morph\" (form), meaning \"many forms.\" In OOP, polymorphism allows objects of different classes to be treated as objects of a common superclass, and the correct method is called based on the actual object type.                                                                   \n"
      ],
      "metadata": {
        "id": "uWLCpdEEqSu-"
      }
    },
    {
      "cell_type": "markdown",
      "source": [
        "8. How is encapsulation achieved in Python?"
      ],
      "metadata": {
        "id": "E1ZN6Ys1qgFD"
      }
    },
    {
      "cell_type": "markdown",
      "source": [
        "Ans- In Python, encapsulation is achieved by restricting access to the internal state (attributes and methods) of an object and controlling how those attributes and methods can be accessed and modified. Encapsulation helps ensure that an object’s state is protected and only modified through well-defined interfaces, which helps maintain the integrity and consistency of the object’s state.                                                                        \n",
        "Ways to Achieve Encapsulation in Python:\n",
        "- Public Attributes: By default, all attributes are public in Python, meaning they can be accessed and modified directly.\n",
        "- Private Attributes: Private attributes are defined using a double underscore (__) prefix. This is a convention used in Python to signal that the attribute should not be accessed directly from outside the class. Python achieves this using name mangling, where the name of the private attribute is internally changed to make it harder to access directly (but not impossible).\n",
        "- Protected Attributes: Attributes that are meant to be protected (intended for internal use by the class and subclasses) are defined with a single underscore (_). This is a convention and is not enforced by Python.\n",
        "- Getter and Setter Methods: These methods are used to safely access and modify the private attributes of a class."
      ],
      "metadata": {
        "id": "pjMpQxNyqj7l"
      }
    },
    {
      "cell_type": "markdown",
      "source": [
        "9. What is a constructor in Python?"
      ],
      "metadata": {
        "id": "8vznJzdtq9Up"
      }
    },
    {
      "cell_type": "markdown",
      "source": [
        "Ans- In Python, a constructor is a special method used to initialize objects when they are created. The constructor method is called automatically when an instance (object) of a class is created, and it sets up the initial state of the object by assigning values to its attributes.                           \n",
        "\n",
        "In Python, the constructor is defined using the __init__ method. This method is not technically a true constructor in the sense used in some other programming languages, but it is the method that gets called when you create a new object.\n",
        "\n",
        "The __init__ method is a special method (also called a dunder method or magic method) in Python. Its primary job is to initialize the object's attributes based on the arguments passed during object creation."
      ],
      "metadata": {
        "id": "gkT6w5f4rAjD"
      }
    },
    {
      "cell_type": "markdown",
      "source": [
        "10. What are class and static methods in Python?"
      ],
      "metadata": {
        "id": "3-urJtq2rTeB"
      }
    },
    {
      "cell_type": "markdown",
      "source": [
        "Ans- Class Methods :                                                       \n",
        "    A class method is a method that is bound to the class, not the instance of the class. It takes the class itself as the first argument, which is typically named cls, rather than self (which refers to an instance). This allows the class method to access and modify class-level attributes and methods. Class methods are defined using the @classmethod decorator.\n",
        "\n",
        "Key Characteristics of Class Methods:\n",
        "- They are bound to the class, not instances of the class.\n",
        "- The first parameter is cls, which refers to the class itself.\n",
        "- They can modify the class state that applies across all instances of the class.                                                                     \n",
        " Static Methods:                                                              \n",
        "  A static method is a method that does not take either self or cls as its first parameter. It is bound to the class rather than the instance, but it does not modify the class or instance state. A static method is like a function that is part of a class for organizational purposes but doesn't interact with the class or instance. Static methods are defined using the @staticmethod decorator.\n",
        "\n",
        "Key Characteristics of Static Methods:\n",
        "- They do not have access to the instance (self) or class (cls).\n",
        "- They are just regular methods defined inside a class, often for utility functions related to the class.\n",
        "- They are not bound to the class or instance, so they can be called on both the class itself and instances.\n",
        "                 "
      ],
      "metadata": {
        "id": "yxd69C1CrYmJ"
      }
    },
    {
      "cell_type": "markdown",
      "source": [
        "11. What is method overloading in Python?"
      ],
      "metadata": {
        "id": "R2pNgDFxr-Ur"
      }
    },
    {
      "cell_type": "markdown",
      "source": [
        "Ans - In Python, method overloading refers to the ability to define multiple methods in the same class with the same name but different parameters. However, Python does not support traditional method overloading (like in languages such as Java or C++), where you can have multiple methods with the same name but with different numbers or types of arguments.\n",
        "\n",
        "In Python, if you define multiple methods with the same name, the last one defined will overwrite the previous ones. Therefore, method overloading as it exists in statically typed languages does not exist in Python."
      ],
      "metadata": {
        "id": "DBfx1Dg7sBp6"
      }
    },
    {
      "cell_type": "markdown",
      "source": [
        "12. What is method overriding in OOP?"
      ],
      "metadata": {
        "id": "Iw9s-i0XsaBM"
      }
    },
    {
      "cell_type": "markdown",
      "source": [
        "Ans- Method overriding is a concept in object-oriented programming (OOP) where a subclass provides a specific implementation of a method that is already defined in its superclass. The method in the subclass overrides the method in the superclass, meaning that when the method is called on an instance of the subclass, the subclass's version of the method is executed instead of the superclass's version.\n",
        "\n",
        "Key Points About Method Overriding:\n",
        "- Inheritance: The subclass inherits the method from the superclass, but it can provide its own implementation.\n",
        "- Same Method Name: The method in the subclass must have the same name and same parameter signature as the method in the superclass.\n",
        "- Dynamic Dispatch: When a method is called on an object, Python dynamically decides which method to invoke based on the type of the object, not the type of the reference."
      ],
      "metadata": {
        "id": "zZ43xlE_sfzi"
      }
    },
    {
      "cell_type": "markdown",
      "source": [
        "13.  What is a property decorator in Python?"
      ],
      "metadata": {
        "id": "fyMr-6qZss-c"
      }
    },
    {
      "cell_type": "markdown",
      "source": [
        "Ans- In Python, the @property decorator is used to define getter methods for class attributes in a way that makes them behave like regular attributes, while still allowing you to perform additional logic when accessing them.\n",
        "\n",
        "This decorator is commonly used to encapsulate an attribute and control its access (through getter and setter methods) without changing the external interface of the class. Using @property, you can make an attribute look like it is being accessed directly, but behind the scenes, you can add logic to get, set, or modify that attribute.\n",
        "\n",
        "Key Features of the @property Decorator:                                       \n",
        "- It allows a method to be accessed as if it were an attribute, i.e., you don’t have to call it like a method.\n",
        "- It is often used to implement getter, setter, and deleter methods in a Python class.\n",
        "- It is commonly used to enforce encapsulation and data validation, or to make an attribute \"read-only\" or \"write-only.\""
      ],
      "metadata": {
        "id": "oIWpNicXsznj"
      }
    },
    {
      "cell_type": "markdown",
      "source": [
        "14.  Why is polymorphism important in OOP?"
      ],
      "metadata": {
        "id": "kFthRwmetMHy"
      }
    },
    {
      "cell_type": "markdown",
      "source": [
        "Ans- Polymorphism is one of the core concepts in Object-Oriented Programming (OOP), and it plays a crucial role in making code more flexible, reusable, and maintainable. The term \"polymorphism\" comes from the Greek words \"poly\" (meaning many) and \"morph\" (meaning form), and it essentially means \"many forms.\n",
        "\n",
        "Polymorphism is a powerful concept in OOP that enhances flexibility, reusability, and maintainability of code. By allowing objects of different types to be treated as objects of a common base type, polymorphism enables:\n",
        "- Code reusability and flexibility.\n",
        "- Easier maintenance and extension of the code.\n",
        "- Reduced coupling and improved modularity.                                    \n",
        "\n",
        "It is one of the key concepts that allows OOP to model real-world relationships in a way that is both efficient and easy to extend, making it a crucial feature of object-oriented design."
      ],
      "metadata": {
        "id": "VEwDhuSEtSBb"
      }
    },
    {
      "cell_type": "markdown",
      "source": [
        "15. What is an abstract class in Python?"
      ],
      "metadata": {
        "id": "1WcXLtgit6jU"
      }
    },
    {
      "cell_type": "markdown",
      "source": [
        "Ans- An abstract class in Python is a class that cannot be instantiated directly. It serves as a blueprint for other classes. An abstract class can contain abstract methods, which are methods that are declared but contain no implementation. Subclasses of an abstract class are expected to implement these abstract methods.\n",
        "\n",
        "Abstract classes are used to define a common interface for a group of related classes, while allowing each subclass to provide its own specific implementation for certain methods. This concept is central to abstract programming and is often used when you want to ensure that certain methods are implemented by all subclasses.\n",
        "\n",
        "Key Features of Abstract Classes:\n",
        "- Cannot be instantiated directly: You cannot create an instance of an abstract class. It can only be subclassed, and instances can only be created from the subclasses that implement the abstract methods.\n",
        "- Abstract methods: These are methods defined in an abstract class that do not have any implementation in the abstract class. Subclasses must implement these methods.\n",
        "- Enforces method implementation: By using abstract classes, you can ensure that certain methods are implemented in the subclasses."
      ],
      "metadata": {
        "id": "4xZkVh2rt-v6"
      }
    },
    {
      "cell_type": "markdown",
      "source": [
        "16. What are the advantages of OOP?"
      ],
      "metadata": {
        "id": "oa4HzmT8uJ-L"
      }
    },
    {
      "cell_type": "markdown",
      "source": [
        "Ans-\n",
        "- Modularity: You can create separate classes for Account, Transaction, Customer, etc.\n",
        "- Reusability: The Account class can be reused for different types of accounts like CheckingAccount, SavingsAccount, etc.\n",
        "- Encapsulation: Each account has its own internal state (balance) and provides methods like deposit or withdraw to interact with it, hiding the internal implementation details.\n",
        "- Abstraction: A user of the system doesn’t need to know how the account balance is calculated; they only interact with the provided methods like deposit and withdraw.\n",
        "- Inheritance: You can create subclasses like CheckingAccount or SavingsAccount that inherit common functionality from the Account class but add their own specific behaviors (e.g., different interest rates or transaction fees).\n",
        "- Polymorphism: The system can process transactions on various account types using a common process_transaction method, even though each account type may process transactions differently."
      ],
      "metadata": {
        "id": "lEYCK9nVuOSi"
      }
    },
    {
      "cell_type": "markdown",
      "source": [
        "17. What is the difference between a class variable and an instance variable?"
      ],
      "metadata": {
        "id": "VWaQZxfjRexB"
      }
    },
    {
      "cell_type": "markdown",
      "source": [
        "Ans- Class Variable:                                                           \n",
        "- Definition: A class variable is a variable that is shared by all instances (objects) of a class. It is defined inside the class but outside any instance methods (including the __init__ constructor).\n",
        "- Scope: Class variables are shared across all instances of the class. If one instance modifies the class variable, the change is reflected across all instances.\n",
        "- Access: Class variables are typically accessed using the class name but can also be accessed through an instance.\n",
        "- Use case: Class variables are often used for values that should be consistent across all instances of the class. For example, constants or shared data.      \n",
        "\n",
        "Instance Variable:                                                       \n",
        "- Definition: An instance variable is a variable that is specific to a particular instance (object) of the class. It is defined inside the __init__ method (or other instance methods) using the self keyword.\n",
        "- Scope: Each instance of the class has its own copy of the instance variables. Modifying an instance variable of one object will not affect the other objects.\n",
        "- Access: Instance variables are accessed using the self keyword and are typically accessed via the object itself.\n",
        "- Use case: Instance variables are used to store data that is unique to each object, such as the attributes of an object."
      ],
      "metadata": {
        "id": "kClsANAQRke7"
      }
    },
    {
      "cell_type": "markdown",
      "source": [
        "18.  What is multiple inheritance in Python?"
      ],
      "metadata": {
        "id": "LXCXQrcBSI21"
      }
    },
    {
      "cell_type": "markdown",
      "source": [
        "Ans- Multiple inheritance is a feature in Python (and other object-oriented languages) that allows a class to inherit attributes and methods from more than one parent class. This allows a class to combine functionality from multiple classes, promoting code reuse and flexibility.\n",
        "\n",
        "In multiple inheritance, a child class can inherit from multiple parent classes, thereby gaining the properties and behaviors of all the parent classes.\n",
        "Key Points:\n",
        "- A class can inherit from more than one class by listing the parent classes in the class definition (separated by commas).\n",
        "- The child class will inherit attributes and methods from all the parent classes.\n",
        "- Method resolution order (MRO): When multiple classes have the same method, Python uses a method resolution order to determine which method to invoke."
      ],
      "metadata": {
        "id": "n0o-ZSIKSPe7"
      }
    },
    {
      "cell_type": "markdown",
      "source": [
        "19. Explain the purpose of ‘’__str__’ and ‘__repr__’ ‘ methods in Python?\n"
      ],
      "metadata": {
        "id": "O7GiYdNXTLgt"
      }
    },
    {
      "cell_type": "markdown",
      "source": [
        "Ans- __str__ Method :                                                         \n",
        "- Purpose: The __str__ method is used to define a human-readable or user-friendly string representation of an object. When you call str(object) or use the print() function on an object, Python will call this method to convert the object into a string that is easy to read and understand for the user.\n",
        "- Context: It's meant for providing a nice, readable output for end users. The output of __str__ should be a string that conveys meaningful information about the object in a simple and understandable way.\n",
        "- How it’s used: If you define __str__ in your class, it will be invoked when you use print() or str() on an instance of the class.                      \n"
      ],
      "metadata": {
        "id": "QJNyFAHzTQtU"
      }
    },
    {
      "cell_type": "code",
      "source": [
        "class Dog:\n",
        "    def __init__(self, name, age):\n",
        "        self.name = name\n",
        "        self.age = age\n",
        "\n",
        "    def __str__(self):\n",
        "        return f\"{self.name} is {self.age} years old.\"\n",
        "\n",
        "# Create a Dog object\n",
        "dog = Dog(\"Buddy\", 3)\n",
        "\n",
        "# Using the __str__ method implicitly\n",
        "print(dog)  # Outputs: Buddy is 3 years old.\n"
      ],
      "metadata": {
        "id": "6JkmqRgHTuVU",
        "outputId": "c6e8e33b-ca1e-4ac8-ded2-4f8518b6833d",
        "colab": {
          "base_uri": "https://localhost:8080/"
        }
      },
      "execution_count": 1,
      "outputs": [
        {
          "output_type": "stream",
          "name": "stdout",
          "text": [
            "Buddy is 3 years old.\n"
          ]
        }
      ]
    },
    {
      "cell_type": "markdown",
      "source": [
        "__repr__ Method:                                                               \n",
        "- Purpose: The __repr__ method is used to define a formal string representation of an object, typically one that could be used to recreate the object. Its purpose is to provide an unambiguous and precise representation that can help in debugging and development.\n",
        "- Context: It's meant for the developer or for use in interactive sessions (e.g., when using the Python shell or REPL). The goal of __repr__ is to give enough detail about the object that it can be reconstructed, and it should ideally return a string that, when passed to eval(), could recreate the object (though this is not always strictly possible).\n",
        "- How it’s used: If you define __repr__, it will be used when you invoke repr(object), or when you just type the object name in an interactive session (such as the Python REPL)."
      ],
      "metadata": {
        "id": "HhWs42eaTw9l"
      }
    },
    {
      "cell_type": "code",
      "source": [
        "class Dog:\n",
        "    def __init__(self, name, age):\n",
        "        self.name = name\n",
        "        self.age = age\n",
        "\n",
        "    def __repr__(self):\n",
        "        return f\"Dog('{self.name}', {self.age})\"\n",
        "\n",
        "# Create a Dog object\n",
        "dog = Dog(\"Buddy\", 3)\n",
        "\n",
        "# Using the __repr__ method implicitly\n",
        "print(repr(dog))  # Outputs: Dog('Buddy', 3)\n"
      ],
      "metadata": {
        "id": "Lp3HrmRHT9EN",
        "outputId": "c60c2b40-7d7e-46aa-c335-45bd99760860",
        "colab": {
          "base_uri": "https://localhost:8080/"
        }
      },
      "execution_count": 2,
      "outputs": [
        {
          "output_type": "stream",
          "name": "stdout",
          "text": [
            "Dog('Buddy', 3)\n"
          ]
        }
      ]
    },
    {
      "cell_type": "markdown",
      "source": [
        "20. What is the significance of the ‘super()’ function in Python?"
      ],
      "metadata": {
        "id": "ErDL9aqUUAMz"
      }
    },
    {
      "cell_type": "markdown",
      "source": [
        "Ans- The super() function is used to call a method from a parent class (or superclass) in the context of inheritance. It is an important tool in object-oriented programming (OOP), enabling a child class to call methods or access attributes defined in its parent class. This function helps maintain a clear and manageable inheritance structure and is especially useful in the context of multiple inheritance.                                        \n",
        "- super() is a powerful function in Python that simplifies method calls in inheritance hierarchies.\n",
        "- It is particularly useful in the context of multiple inheritance to avoid redundancy and ensure that all parent classes are invoked in the correct order.\n",
        "- By using super(), you can maintain cleaner, more maintainable, and more cooperative code in object-oriented designs.\n",
        "\n",
        "\n",
        "\n"
      ],
      "metadata": {
        "id": "jXWpvncBUGeu"
      }
    },
    {
      "cell_type": "markdown",
      "source": [
        "21. What is the significance of the __del__ method in Python?"
      ],
      "metadata": {
        "id": "pG6onUigUiEj"
      }
    },
    {
      "cell_type": "markdown",
      "source": [
        "Ans- The __del__ method in Python is a destructor that is automatically called when an object is about to be destroyed or garbage collected. It allows you to define cleanup actions or release resources that the object might have acquired during its lifetime, such as closing files, network connections, or freeing memory.                                                  \n",
        "\n",
        "Key Points About __del__:\n",
        "\n",
        "  Destructor for Cleanup:\n",
        "- The __del__ method is called when an object is about to be destroyed, i.e., when it is garbage collected. This is typically when there are no more references to the object.\n",
        "- It allows you to perform actions like closing files, releasing network resources, or cleaning up any other resources associated with the object that need to be explicitly cleaned up before the object is removed from memory.\n",
        "\n",
        "Automatic Invocation:\n",
        "- The __del__ method is called automatically when the object is garbage collected. You don't have to call it directly; Python takes care of invoking it when the object is no longer needed.                                     \n",
        "\n",
        "Garbage Collection:\n",
        "- Python uses automatic garbage collection to manage memory. Objects are automatically destroyed when their reference count reaches zero (i.e., when no references to the object exist). This is when the __del__ method is called.\n",
        "- In most cases, Python handles memory management for you, but the __del__ method gives you a way to manage resources that need explicit cleanup.\n",
        "\n",
        "Limitations and Caution:\n",
        "- Unpredictable Timing: The exact time when __del__ will be called is not guaranteed. Python's garbage collector determines when objects are ready for cleanup, and it may not happen immediately when the object goes out of scope.\n",
        "\n",
        "- Circular References: If objects are involved in circular references (i.e., two or more objects refer to each other), the __del__ method may not be called because the garbage collector may not be able to detect that the objects are no longer needed. This is something to be mindful of"
      ],
      "metadata": {
        "id": "mE74hpWkUnn9"
      }
    },
    {
      "cell_type": "markdown",
      "source": [
        "22. What is the difference between @staticmethod and @classmethod in Python?\n"
      ],
      "metadata": {
        "id": "nui_qZFwV1uL"
      }
    },
    {
      "cell_type": "markdown",
      "source": [
        "Ans- @staticmethod:  \n",
        "\n",
        "- Definition: A @staticmethod is a method that does not require access to any instance-specific or class-specific data. It does not take the self or cls parameter as the first argument. It behaves like a regular function, but it belongs to the class’s namespace.\n",
        "- Usage: You use @staticmethod when you need to define a method that belongs to the class but does not need access to the instance (self) or the class (cls) itself. This method is purely independent and doesn't modify the state of the object or class.\n",
        "- How it works: You can call the method using the class name or an instance of the class, but it won't access or modify class or instance-level data.\n",
        "- @staticmethod is often used for utility functions that make sense in the context of the class but don't need any specific data from the class or instance.\n",
        "\n",
        "@classmethod:\n",
        "\n",
        "- Definition: A @classmethod is a method that takes the class itself as the first argument (usually named cls). This means it has access to class-level data and can modify the class state, but not the instance state. @classmethod is typically used to define factory methods or methods that operate on the class as a whole, rather than on individual instances.\n",
        "- Usage: You use @classmethod when you need to access or modify class-level variables (not instance variables) or if you want to define a method that works with the class itself (like a constructor or a factory method).\n",
        "- How it works: The first argument of a class method is always cls, which represents the class itself, not an instance of the class.\n",
        "- You can call the class method using the class name or an instance of the class, but the method will have access to class-level data."
      ],
      "metadata": {
        "id": "mQdsiNB0V69O"
      }
    },
    {
      "cell_type": "markdown",
      "source": [
        "23. How does polymorphism work in Python with inheritance?"
      ],
      "metadata": {
        "id": "_ufUdWK4WdS1"
      }
    },
    {
      "cell_type": "markdown",
      "source": [
        "Ans- Polymorphism in Python, particularly in the context of inheritance, refers to the ability of different classes to provide a common interface (typically methods) while implementing them in different ways. This allows you to call the same method on objects of different classes, but each class can have its own specific behavior for that method.\n",
        "\n",
        "Polymorphism is typically achieved through method overriding and inheritance. The same method name can behave differently depending on which class’s object is calling it.                                                    \n",
        "- Method overriding in subclasses allows polymorphism.\n",
        "- Python’s dynamic typing makes polymorphism natural and flexible.\n",
        "- Abstract classes define a common interface for polymorphism.\n",
        "- In multiple inheritance, Python’s MRO ensures the correct method is called."
      ],
      "metadata": {
        "id": "4UK-V4T7Whqs"
      }
    },
    {
      "cell_type": "markdown",
      "source": [
        "24. What is method chaining in Python OOP?"
      ],
      "metadata": {
        "id": "j8-K5JKVXmrQ"
      }
    },
    {
      "cell_type": "markdown",
      "source": [
        "Ans - Method chaining in Python (or in Object-Oriented Programming in general) is a programming technique where multiple method calls are made on the same object, one after another, in a single line of code. Each method call returns the object itself (or a modified version of it), so you can call another method on the returned object without needing to reference the object again.     \n",
        "\n",
        "In order to enable method chaining, each method in the chain must return the object (usually self). By doing this, the object can be used again immediately after each method call.\n",
        "\n",
        "Method chaining is a powerful concept in Python OOP that helps you write cleaner and more readable code. By returning the object (self) from each method, you can call multiple methods in a single line, making the code concise and expressive. It's commonly used in design patterns like the builder pattern and for creating fluent APIs.                                         \n",
        "\n"
      ],
      "metadata": {
        "id": "Tg4hFDosXrrl"
      }
    },
    {
      "cell_type": "markdown",
      "source": [
        "25. What is the purpose of the __call__ method in Python?"
      ],
      "metadata": {
        "id": "3kcyAYaIYM3_"
      }
    },
    {
      "cell_type": "markdown",
      "source": [
        "Ans- In Python, the __call__ method is a special (or \"dunder\") method that allows an instance of a class to be called like a function. Essentially, when you define a __call__ method in a class, the objects of that class become callable.\n",
        "\n",
        "This means that instead of calling a method explicitly (e.g., obj.method()), you can call the object itself like a function (e.g., obj()), and Python will invoke the __call__ method.                                           \n",
        "- Callable Objects: By defining the __call__ method, an object can behave like a function.\n",
        "- Flexibility: This feature can be used to create more flexible and dynamic objects, especially for scenarios where the object should \"act\" like a function but still maintain state."
      ],
      "metadata": {
        "id": "zeAx73oMYbIF"
      }
    },
    {
      "cell_type": "markdown",
      "source": [
        "#PRATICAL QUESTIONS"
      ],
      "metadata": {
        "id": "RG9oLgDLYyYW"
      }
    },
    {
      "cell_type": "markdown",
      "source": [
        "1.  Create a parent class Animal with a method speak() that prints a generic message. Create a child class Dog\n",
        "that overrides the speak() method to print \"Bark!\"."
      ],
      "metadata": {
        "id": "8DKX7uo5Y5pd"
      }
    },
    {
      "cell_type": "code",
      "source": [
        "# Parent class\n",
        "class Animal:\n",
        "    def speak(self):\n",
        "        print(\"This is a generic animal sound.\")\n",
        "\n",
        "# Child class\n",
        "class Dog(Animal):\n",
        "    def speak(self):\n",
        "        print(\"Bark!\")\n",
        "\n",
        "# Creating instances of each class\n",
        "animal = Animal()\n",
        "dog = Dog()\n",
        "\n",
        "# Calling the speak method on both objects\n",
        "animal.speak()  # Output: This is a generic animal sound.\n",
        "dog.speak()     # Output: Bark!\n"
      ],
      "metadata": {
        "id": "1Ohi5sTeY8xL",
        "outputId": "727bf2ae-35de-4a6f-9e54-52bc1daf3328",
        "colab": {
          "base_uri": "https://localhost:8080/"
        }
      },
      "execution_count": 3,
      "outputs": [
        {
          "output_type": "stream",
          "name": "stdout",
          "text": [
            "This is a generic animal sound.\n",
            "Bark!\n"
          ]
        }
      ]
    },
    {
      "cell_type": "markdown",
      "source": [
        "2.  Write a program to create an abstract class Shape with a method area(). Derive classes Circle and Rectangle\n",
        "from it and implement the area() method in both.\n",
        "\n",
        "\n"
      ],
      "metadata": {
        "id": "lHm9Mw8ZZEzW"
      }
    },
    {
      "cell_type": "code",
      "source": [
        "from abc import ABC, abstractmethod\n",
        "import math\n",
        "\n",
        "# Abstract class Shape\n",
        "class Shape(ABC):\n",
        "    @abstractmethod\n",
        "    def area(self):\n",
        "        pass  # This method must be implemented by subclasses\n",
        "\n",
        "# Derived class Circle\n",
        "class Circle(Shape):\n",
        "    def __init__(self, radius):\n",
        "        self.radius = radius\n",
        "\n",
        "    def area(self):\n",
        "        return math.pi * self.radius ** 2  # Area of the circle (πr^2)\n",
        "\n",
        "# Derived class Rectangle\n",
        "class Rectangle(Shape):\n",
        "    def __init__(self, width, height):\n",
        "        self.width = width\n",
        "        self.height = height\n",
        "\n",
        "    def area(self):\n",
        "        return self.width * self.height  # Area of the rectangle (width * height)\n",
        "\n",
        "# Creating instances of Circle and Rectangle\n",
        "circle = Circle(5)\n",
        "rectangle = Rectangle(4, 6)\n",
        "\n",
        "# Printing the areas of both shapes\n",
        "print(f\"Area of the circle: {circle.area()}\")  # Output: Area of the circle: 78.53981633974483\n",
        "print(f\"Area of the rectangle: {rectangle.area()}\")  # Output: Area of the rectangle: 24\n",
        "\n"
      ],
      "metadata": {
        "id": "pBcK8zppZLOK",
        "outputId": "4c8ead6b-b719-4f24-bb41-969a5761945b",
        "colab": {
          "base_uri": "https://localhost:8080/"
        }
      },
      "execution_count": 4,
      "outputs": [
        {
          "output_type": "stream",
          "name": "stdout",
          "text": [
            "Area of the circle: 78.53981633974483\n",
            "Area of the rectangle: 24\n"
          ]
        }
      ]
    },
    {
      "cell_type": "markdown",
      "source": [
        "3. Implement a multi-level inheritance scenario where a class Vehicle has an attribute type. Derive a class Car\n",
        "and further derive a class ElectricCar that adds a battery attribute"
      ],
      "metadata": {
        "id": "SObiJXwUZbl9"
      }
    },
    {
      "cell_type": "code",
      "source": [
        "# Base class Vehicle\n",
        "class Vehicle:\n",
        "    def __init__(self, type):\n",
        "        self.type = type\n",
        "\n",
        "    def display_type(self):\n",
        "        print(f\"This is a {self.type} vehicle.\")\n",
        "\n",
        "# Derived class Car\n",
        "class Car(Vehicle):\n",
        "    def __init__(self, type, model):\n",
        "        # Call the parent class's __init__ method to initialize 'type'\n",
        "        super().__init__(type)\n",
        "        self.model = model\n",
        "\n",
        "    def display_model(self):\n",
        "        print(f\"This car model is: {self.model}\")\n",
        "\n",
        "# Further derived class ElectricCar\n",
        "class ElectricCar(Car):\n",
        "    def __init__(self, type, model, battery):\n",
        "        # Call the parent class's __init__ method to initialize 'type' and 'model'\n",
        "        super().__init__(type, model)\n",
        "        self.battery = battery\n",
        "\n",
        "    def display_battery(self):\n",
        "        print(f\"This electric car has a {self.battery} battery.\")\n",
        "\n",
        "# Create an instance of ElectricCar\n",
        "electric_car = ElectricCar(\"Electric\", \"Tesla Model S\", \"100 kWh\")\n",
        "\n",
        "# Display attributes using methods from different levels of inheritance\n",
        "electric_car.display_type()      # From Vehicle\n",
        "electric_car.display_model()     # From Car\n",
        "electric_car.display_battery()   # From ElectricCar\n"
      ],
      "metadata": {
        "id": "yAo4ea85Zd0_",
        "outputId": "b9eb5a11-595a-473a-cc30-911cfbd2b408",
        "colab": {
          "base_uri": "https://localhost:8080/"
        }
      },
      "execution_count": 5,
      "outputs": [
        {
          "output_type": "stream",
          "name": "stdout",
          "text": [
            "This is a Electric vehicle.\n",
            "This car model is: Tesla Model S\n",
            "This electric car has a 100 kWh battery.\n"
          ]
        }
      ]
    },
    {
      "cell_type": "markdown",
      "source": [
        "4.  Demonstrate polymorphism by creating a base class Bird with a method fly(). Create two derived classes\n",
        "Sparrow and Penguin that override the fly() method.\n"
      ],
      "metadata": {
        "id": "VL06q72bZzEH"
      }
    },
    {
      "cell_type": "code",
      "source": [
        "# Base class Bird\n",
        "class Bird:\n",
        "    def fly(self):\n",
        "        raise NotImplementedError(\"This method should be overridden by subclasses\")\n",
        "\n",
        "# Derived class Sparrow\n",
        "class Sparrow(Bird):\n",
        "    def fly(self):\n",
        "        print(\"Sparrow is flying in the sky.\")\n",
        "\n",
        "# Derived class Penguin\n",
        "class Penguin(Bird):\n",
        "    def fly(self):\n",
        "        print(\"Penguin cannot fly, but it can swim!\")\n",
        "\n",
        "# Creating instances of Sparrow and Penguin\n",
        "sparrow = Sparrow()\n",
        "penguin = Penguin()\n",
        "\n",
        "# Demonstrating polymorphism\n",
        "birds = [sparrow, penguin]\n",
        "\n",
        "for bird in birds:\n",
        "    bird.fly()  # Calls the overridden fly() method for each bird\n"
      ],
      "metadata": {
        "id": "kVGeHEOMZ1mm",
        "outputId": "bdc08d2e-ebda-4e74-c731-1458fb7c0143",
        "colab": {
          "base_uri": "https://localhost:8080/"
        }
      },
      "execution_count": 6,
      "outputs": [
        {
          "output_type": "stream",
          "name": "stdout",
          "text": [
            "Sparrow is flying in the sky.\n",
            "Penguin cannot fly, but it can swim!\n"
          ]
        }
      ]
    },
    {
      "cell_type": "markdown",
      "source": [
        "5.  Write a program to demonstrate encapsulation by creating a class BankAccount with private attributes\n",
        "balance and methods to deposit, withdraw, and check balance."
      ],
      "metadata": {
        "id": "IA2OHbJ_Z9Uc"
      }
    },
    {
      "cell_type": "code",
      "source": [
        "class BankAccount:\n",
        "    def __init__(self, owner, balance=0):\n",
        "        self.owner = owner\n",
        "        self.__balance = balance  # Private attribute (encapsulation)\n",
        "\n",
        "    # Method to deposit money\n",
        "    def deposit(self, amount):\n",
        "        if amount > 0:\n",
        "            self.__balance += amount\n",
        "            print(f\"Deposited {amount}. Current balance: {self.__balance}\")\n",
        "        else:\n",
        "            print(\"Deposit amount must be positive.\")\n",
        "\n",
        "    # Method to withdraw money\n",
        "    def withdraw(self, amount):\n",
        "        if amount <= 0:\n",
        "            print(\"Withdrawal amount must be positive.\")\n",
        "        elif amount > self.__balance:\n",
        "            print(\"Insufficient funds!\")\n",
        "        else:\n",
        "            self.__balance -= amount\n",
        "            print(f\"Withdrew {amount}. Current balance: {self.__balance}\")\n",
        "\n",
        "    # Method to check the current balance\n",
        "    def check_balance(self):\n",
        "        print(f\"Current balance: {self.__balance}\")\n",
        "\n",
        "# Create an instance of BankAccount\n",
        "account = BankAccount(\"John Doe\", 1000)\n",
        "\n",
        "# Access the balance and perform some transactions\n",
        "account.check_balance()  # Check initial balance\n",
        "\n",
        "account.deposit(500)     # Deposit some money\n",
        "account.withdraw(200)    # Withdraw some money\n",
        "account.withdraw(1500)   # Attempt to withdraw more than the available balance\n",
        "account.check_balance()  # Check balance again\n"
      ],
      "metadata": {
        "id": "CDjsef7GaDsL",
        "outputId": "e398421a-9d3b-45d0-9013-c3fca06ecaaf",
        "colab": {
          "base_uri": "https://localhost:8080/"
        }
      },
      "execution_count": 7,
      "outputs": [
        {
          "output_type": "stream",
          "name": "stdout",
          "text": [
            "Current balance: 1000\n",
            "Deposited 500. Current balance: 1500\n",
            "Withdrew 200. Current balance: 1300\n",
            "Insufficient funds!\n",
            "Current balance: 1300\n"
          ]
        }
      ]
    },
    {
      "cell_type": "markdown",
      "source": [
        "6.  Demonstrate runtime polymorphism using a method play() in a base class Instrument. Derive classes Guitar\n",
        "and Piano that implement their own version of play()."
      ],
      "metadata": {
        "id": "rIf7BsQ7aI90"
      }
    },
    {
      "cell_type": "code",
      "source": [
        "# Base class Instrument\n",
        "class Instrument:\n",
        "    def play(self):\n",
        "        print(\"Playing an instrument.\")\n",
        "\n",
        "# Derived class Guitar\n",
        "class Guitar(Instrument):\n",
        "    def play(self):\n",
        "        print(\"Strumming the guitar.\")\n",
        "\n",
        "# Derived class Piano\n",
        "class Piano(Instrument):\n",
        "    def play(self):\n",
        "        print(\"Playing the piano.\")\n",
        "\n",
        "# Demonstrating runtime polymorphism\n",
        "def perform_play(instrument):\n",
        "    instrument.play()  # The appropriate play method will be called at runtime\n",
        "\n",
        "# Creating instances of Guitar and Piano\n",
        "guitar = Guitar()\n",
        "piano = Piano()\n",
        "\n",
        "# Calling the perform_play function with different instruments\n",
        "perform_play(guitar)  # Output: Strumming the guitar.\n",
        "perform_play(piano)   # Output: Playing the piano.\n",
        "\n"
      ],
      "metadata": {
        "id": "hECXCMZPaLXF",
        "outputId": "bee1c988-5bb5-4865-a53b-e9d456683dc4",
        "colab": {
          "base_uri": "https://localhost:8080/"
        }
      },
      "execution_count": 8,
      "outputs": [
        {
          "output_type": "stream",
          "name": "stdout",
          "text": [
            "Strumming the guitar.\n",
            "Playing the piano.\n"
          ]
        }
      ]
    },
    {
      "cell_type": "markdown",
      "source": [
        "7. Create a class MathOperations with a class method add_numbers() to add two numbers and a static\n",
        "method subtract_numbers() to subtract two numbers."
      ],
      "metadata": {
        "id": "SzsTDKtTaSzN"
      }
    },
    {
      "cell_type": "code",
      "source": [
        "class MathOperations:\n",
        "    # Class method to add two numbers\n",
        "    @classmethod\n",
        "    def add_numbers(cls, num1, num2):\n",
        "        return num1 + num2\n",
        "\n",
        "    # Static method to subtract two numbers\n",
        "    @staticmethod\n",
        "    def subtract_numbers(num1, num2):\n",
        "        return num1 - num2\n",
        "\n",
        "# Using the class method and static method\n",
        "# Class method call using class name or instance\n",
        "result_add = MathOperations.add_numbers(10, 5)  # Output: 15\n",
        "\n",
        "# Static method call using class name or instance\n",
        "result_subtract = MathOperations.subtract_numbers(10, 5)  # Output: 5\n",
        "\n",
        "print(f\"Addition Result: {result_add}\")\n",
        "print(f\"Subtraction Result: {result_subtract}\")\n",
        "\n"
      ],
      "metadata": {
        "id": "OeYBa05-aW8N",
        "outputId": "d3963131-6c5e-4c39-e832-0bac9d66a90d",
        "colab": {
          "base_uri": "https://localhost:8080/"
        }
      },
      "execution_count": 9,
      "outputs": [
        {
          "output_type": "stream",
          "name": "stdout",
          "text": [
            "Addition Result: 15\n",
            "Subtraction Result: 5\n"
          ]
        }
      ]
    },
    {
      "cell_type": "markdown",
      "source": [
        "8.  Implement a class Person with a class method to count the total number of persons created."
      ],
      "metadata": {
        "id": "32Dk1oAZad8O"
      }
    },
    {
      "cell_type": "code",
      "source": [
        "class Person:\n",
        "    # Class variable to keep track of total number of persons\n",
        "    total_persons = 0\n",
        "\n",
        "    def __init__(self, name, age):\n",
        "        self.name = name\n",
        "        self.age = age\n",
        "        # Increment the class variable every time a new Person is created\n",
        "        Person.total_persons += 1\n",
        "\n",
        "    # Class method to get the total number of persons created\n",
        "    @classmethod\n",
        "    def get_total_persons(cls):\n",
        "        return cls.total_persons\n",
        "\n",
        "# Create instances of Person\n",
        "person1 = Person(\"Alice\", 30)\n",
        "person2 = Person(\"Bob\", 25)\n",
        "person3 = Person(\"Charlie\", 35)\n",
        "\n",
        "# Get the total number of persons created using the class method\n",
        "print(f\"Total persons created: {Person.get_total_persons()}\")  # Output: Total persons created: 3\n"
      ],
      "metadata": {
        "id": "WCqD5qShagcp",
        "outputId": "8feae350-76da-42ee-f48e-7979fa32b454",
        "colab": {
          "base_uri": "https://localhost:8080/"
        }
      },
      "execution_count": 10,
      "outputs": [
        {
          "output_type": "stream",
          "name": "stdout",
          "text": [
            "Total persons created: 3\n"
          ]
        }
      ]
    },
    {
      "cell_type": "markdown",
      "source": [
        "9.  Write a class Fraction with attributes numerator and denominator. Override the str method to display the\n",
        "fraction as \"numerator/denominator\"."
      ],
      "metadata": {
        "id": "Fss1yiOdalSW"
      }
    },
    {
      "cell_type": "code",
      "source": [
        "class Fraction:\n",
        "    def __init__(self, numerator, denominator):\n",
        "        self.numerator = numerator\n",
        "        self.denominator = denominator\n",
        "\n",
        "    # Override the __str__ method to display the fraction as \"numerator/denominator\"\n",
        "    def __str__(self):\n",
        "        return f\"{self.numerator}/{self.denominator}\"\n",
        "\n",
        "# Create instances of Fraction\n",
        "fraction1 = Fraction(3, 4)\n",
        "fraction2 = Fraction(5, 8)\n",
        "\n",
        "# Print the fractions (this will call the __str__ method)\n",
        "print(fraction1)  # Output: 3/4\n",
        "print(fraction2)  # Output: 5/8\n"
      ],
      "metadata": {
        "id": "1TU-nGcUaphO",
        "outputId": "f9c43951-a872-459b-8843-d205cedfd2d0",
        "colab": {
          "base_uri": "https://localhost:8080/"
        }
      },
      "execution_count": 11,
      "outputs": [
        {
          "output_type": "stream",
          "name": "stdout",
          "text": [
            "3/4\n",
            "5/8\n"
          ]
        }
      ]
    },
    {
      "cell_type": "markdown",
      "source": [
        "10. . Demonstrate operator overloading by creating a class Vector and overriding the add method to add two\n",
        "vectors."
      ],
      "metadata": {
        "id": "V8P7p9CnawJe"
      }
    },
    {
      "cell_type": "code",
      "source": [
        "class Vector:\n",
        "    def __init__(self, x, y):\n",
        "        self.x = x  # x-component of the vector\n",
        "        self.y = y  # y-component of the vector\n",
        "\n",
        "    # Overloading the + operator to add two vectors\n",
        "    def __add__(self, other):\n",
        "        if isinstance(other, Vector):\n",
        "            # Adding corresponding components of the vectors\n",
        "            return Vector(self.x + other.x, self.y + other.y)\n",
        "        else:\n",
        "            raise ValueError(\"Both operands must be instances of the Vector class\")\n",
        "\n",
        "    # String representation of the vector\n",
        "    def __str__(self):\n",
        "        return f\"({self.x}, {self.y})\"\n",
        "\n",
        "# Create instances of Vector\n",
        "v1 = Vector(2, 3)\n",
        "v2 = Vector(4, 5)\n",
        "\n",
        "# Adding two vectors using the overloaded + operator\n",
        "v3 = v1 + v2\n",
        "\n",
        "# Print the result\n",
        "print(f\"v1: {v1}\")  # Output: v1: (2, 3)\n",
        "print(f\"v2: {v2}\")  # Output: v2: (4, 5)\n",
        "print(f\"v1 + v2 = {v3}\")  # Output: v1 + v2 = (6, 8)\n"
      ],
      "metadata": {
        "id": "PfAUQhm5a2BZ",
        "outputId": "2b4d1061-e960-4154-a968-0f3dcc4defa5",
        "colab": {
          "base_uri": "https://localhost:8080/"
        }
      },
      "execution_count": 12,
      "outputs": [
        {
          "output_type": "stream",
          "name": "stdout",
          "text": [
            "v1: (2, 3)\n",
            "v2: (4, 5)\n",
            "v1 + v2 = (6, 8)\n"
          ]
        }
      ]
    },
    {
      "cell_type": "markdown",
      "source": [
        "11. Create a class Person with attributes name and age. Add a method greet() that prints \"Hello, my name is\n",
        "{name} and I am {age} years old.\""
      ],
      "metadata": {
        "id": "6_7iSgCea8wV"
      }
    },
    {
      "cell_type": "code",
      "source": [
        "class Person:\n",
        "    def __init__(self, name, age):\n",
        "        self.name = name  # Attribute for the person's name\n",
        "        self.age = age    # Attribute for the person's age\n",
        "\n",
        "    def greet(self):\n",
        "        print(f\"Hello, my name is {self.name} and I am {self.age} years old.\")\n",
        "\n",
        "# Creating an instance of the Person class\n",
        "person1 = Person(\"Roshan\", 22)\n",
        "\n",
        "# Calling the greet method\n",
        "person1.greet()  # Output: Hello, my name is Roshan and I am 22 years old.\n"
      ],
      "metadata": {
        "id": "eLcVqJmzbA5z",
        "outputId": "0b99472b-e777-4c9c-9f70-18bb0cf9de56",
        "colab": {
          "base_uri": "https://localhost:8080/"
        }
      },
      "execution_count": 15,
      "outputs": [
        {
          "output_type": "stream",
          "name": "stdout",
          "text": [
            "Hello, my name is Roshan and I am 22 years old.\n"
          ]
        }
      ]
    },
    {
      "cell_type": "markdown",
      "source": [
        "12. Implement a class Student with attributes name and grades. Create a method average_grade() to compute\n",
        "the average of the grades."
      ],
      "metadata": {
        "id": "RQ__5YfDbOB3"
      }
    },
    {
      "cell_type": "code",
      "source": [
        "class Student:\n",
        "    def __init__(self, name, grades):\n",
        "        self.name = name         # Attribute for the student's name\n",
        "        self.grades = grades     # Attribute for the list of grades\n",
        "\n",
        "    def average_grade(self):\n",
        "        if len(self.grades) == 0:\n",
        "            return 0  # Avoid division by zero if there are no grades\n",
        "        return sum(self.grades) / len(self.grades)\n",
        "\n",
        "# Creating an instance of the Student class\n",
        "student1 = Student(\"Roshan\", [90, 85, 89, 92])\n",
        "\n",
        "# Calling the average_grade method\n",
        "average = student1.average_grade()\n",
        "print(f\"{student1.name}'s average grade is {average:.2f}\")  # Output: Roshan's average grade is 88.75\n"
      ],
      "metadata": {
        "id": "CfpHRD4QbR11",
        "outputId": "64447c24-22cf-4f4f-b2d8-22299c238e48",
        "colab": {
          "base_uri": "https://localhost:8080/"
        }
      },
      "execution_count": 24,
      "outputs": [
        {
          "output_type": "stream",
          "name": "stdout",
          "text": [
            "Roshan's average grade is 89.00\n"
          ]
        }
      ]
    },
    {
      "cell_type": "markdown",
      "source": [
        "13.  Create a class Rectangle with methods set_dimensions() to set the dimensions and area() to calculate the\n",
        "area."
      ],
      "metadata": {
        "id": "NhnToRVbbdwY"
      }
    },
    {
      "cell_type": "code",
      "source": [
        "class Rectangle:\n",
        "    def __init__(self):\n",
        "        self.length = 0  # Initialize length to 0\n",
        "        self.width = 0   # Initialize width to 0\n",
        "\n",
        "    # Method to set the dimensions of the rectangle\n",
        "    def set_dimensions(self, length, width):\n",
        "        self.length = length\n",
        "        self.width = width\n",
        "\n",
        "    # Method to calculate and return the area of the rectangle\n",
        "    def area(self):\n",
        "        return self.length * self.width\n",
        "\n",
        "# Create an instance of Rectangle\n",
        "rectangle1 = Rectangle()\n",
        "\n",
        "# Set the dimensions of the rectangle\n",
        "rectangle1.set_dimensions(5, 3)\n",
        "\n",
        "# Calculate and print the area\n",
        "print(f\"The area of the rectangle is: {rectangle1.area()}\")  # Output: The area of the rectangle is: 15\n"
      ],
      "metadata": {
        "id": "MI4l2zgNbgJj",
        "outputId": "43366339-209d-4488-d16a-47dbb674fe8e",
        "colab": {
          "base_uri": "https://localhost:8080/"
        }
      },
      "execution_count": 18,
      "outputs": [
        {
          "output_type": "stream",
          "name": "stdout",
          "text": [
            "The area of the rectangle is: 15\n"
          ]
        }
      ]
    },
    {
      "cell_type": "markdown",
      "source": [
        "14.  Create a class Employee with a method calculate_salary() that computes the salary based on hours worked\n",
        "and hourly rate. Create a derived class Manager that adds a bonus to the salary"
      ],
      "metadata": {
        "id": "zIBRfOL1bmEl"
      }
    },
    {
      "cell_type": "code",
      "source": [
        "class Employee:\n",
        "    def __init__(self, name, hours_worked, hourly_rate):\n",
        "        self.name = name\n",
        "        self.hours_worked = hours_worked\n",
        "        self.hourly_rate = hourly_rate\n",
        "\n",
        "    # Method to calculate the salary of an employee\n",
        "    def calculate_salary(self):\n",
        "        return self.hours_worked * self.hourly_rate\n",
        "\n",
        "class Manager(Employee):\n",
        "    def __init__(self, name, hours_worked, hourly_rate, bonus):\n",
        "        super().__init__(name, hours_worked, hourly_rate)  # Initialize the base class\n",
        "        self.bonus = bonus  # Additional attribute for bonus\n",
        "\n",
        "    # Override the calculate_salary method to add a bonus\n",
        "    def calculate_salary(self):\n",
        "        base_salary = super().calculate_salary()  # Get the base salary from the Employee class\n",
        "        return base_salary + self.bonus  # Add the bonus to the base salary\n",
        "\n",
        "# Create instances of Employee and Manager\n",
        "employee = Employee(\"Roshan\", 40, 20)\n",
        "manager = Manager(\"Ashok\", 40, 25, 1000)\n",
        "\n",
        "# Calculate and print salaries\n",
        "print(f\"{employee.name}'s salary: ${employee.calculate_salary()}\")  # Output: Roshan's salary: $800\n",
        "print(f\"{manager.name}'s salary: ${manager.calculate_salary()}\")    # Output: Ashok's salary: $2000\n"
      ],
      "metadata": {
        "id": "YH1kkb-3bo3w",
        "outputId": "0ec0c215-d718-476d-edd3-500154d53da6",
        "colab": {
          "base_uri": "https://localhost:8080/"
        }
      },
      "execution_count": 25,
      "outputs": [
        {
          "output_type": "stream",
          "name": "stdout",
          "text": [
            "Roshan's salary: $800\n",
            "Ashok's salary: $2000\n"
          ]
        }
      ]
    },
    {
      "cell_type": "markdown",
      "source": [
        "15.  Create a class Product with attributes name, price, and quantity. Implement a method total_price() that\n",
        "calculates the total price of the product."
      ],
      "metadata": {
        "id": "yA_OMPWzbt9l"
      }
    },
    {
      "cell_type": "code",
      "source": [
        "class Product:\n",
        "    def __init__(self, name, price, quantity):\n",
        "        self.name = name        # Name of the product\n",
        "        self.price = price      # Price per unit of the product\n",
        "        self.quantity = quantity # Quantity of the product\n",
        "\n",
        "    # Method to calculate the total price of the product\n",
        "    def total_price(self):\n",
        "        return self.price * self.quantity\n",
        "\n",
        "# Create an instance of Product\n",
        "product1 = Product(\"Laptop\", 1000, 5)\n",
        "\n",
        "# Calculate and print the total price\n",
        "print(f\"Total price of {product1.name}: ${product1.total_price()}\")  # Output: Total price of Laptop: $5000\n"
      ],
      "metadata": {
        "id": "26XQSzLWbywe",
        "outputId": "1364619c-e4b0-4375-b0fb-b447f9920be4",
        "colab": {
          "base_uri": "https://localhost:8080/"
        }
      },
      "execution_count": 20,
      "outputs": [
        {
          "output_type": "stream",
          "name": "stdout",
          "text": [
            "Total price of Laptop: $5000\n"
          ]
        }
      ]
    },
    {
      "cell_type": "markdown",
      "source": [
        "16. Create a class Animal with an abstract method sound(). Create two derived classes Cow and Sheep that\n",
        "implement the sound() method."
      ],
      "metadata": {
        "id": "xdcTsUfyb3cN"
      }
    },
    {
      "cell_type": "code",
      "source": [
        "from abc import ABC, abstractmethod\n",
        "\n",
        "# Abstract base class Animal\n",
        "class Animal(ABC):\n",
        "    @abstractmethod\n",
        "    def sound(self):\n",
        "        pass  # Abstract method\n",
        "\n",
        "# Derived class Cow\n",
        "class Cow(Animal):\n",
        "    def sound(self):\n",
        "        return \"Moo!\"\n",
        "\n",
        "# Derived class Sheep\n",
        "class Sheep(Animal):\n",
        "    def sound(self):\n",
        "        return \"Baa!\"\n",
        "\n",
        "# Create instances of Cow and Sheep\n",
        "cow = Cow()\n",
        "sheep = Sheep()\n",
        "\n",
        "# Call the sound method for each\n",
        "print(f\"Cow sound: {cow.sound()}\")  # Output: Cow sound: Moo!\n",
        "print(f\"Sheep sound: {sheep.sound()}\")  # Output: Sheep sound: Baa!\n"
      ],
      "metadata": {
        "id": "2w87y0mmb6NU",
        "outputId": "095ede7e-0fd5-4743-83a4-015998da2647",
        "colab": {
          "base_uri": "https://localhost:8080/"
        }
      },
      "execution_count": 21,
      "outputs": [
        {
          "output_type": "stream",
          "name": "stdout",
          "text": [
            "Cow sound: Moo!\n",
            "Sheep sound: Baa!\n"
          ]
        }
      ]
    },
    {
      "cell_type": "markdown",
      "source": [
        "17.  Create a class Book with attributes title, author, and year_published. Add a method get_book_info() that\n",
        "returns a formatted string with the book's details."
      ],
      "metadata": {
        "id": "BTlZ3PahcAhX"
      }
    },
    {
      "cell_type": "code",
      "source": [
        "class Book:\n",
        "    def __init__(self, title, author, year_published):\n",
        "        self.title = title              # Attribute for the title of the book\n",
        "        self.author = author            # Attribute for the author of the book\n",
        "        self.year_published = year_published  # Attribute for the year the book was published\n",
        "\n",
        "    # Method to get the book's information as a formatted string\n",
        "    def get_book_info(self):\n",
        "        return f\"Title: {self.title}, Author: {self.author}, Year Published: {self.year_published}\"\n",
        "\n",
        "# Create an instance of the Book class\n",
        "book1 = Book(\"To Kill a Mockingbird\", \"Harper Lee\", 1960)\n",
        "\n",
        "# Get and print the book's information\n",
        "print(book1.get_book_info())  # Output: Title: To Kill a Mockingbird, Author: Harper Lee, Year Published: 1960\n"
      ],
      "metadata": {
        "id": "WT5VMPG8cETO",
        "outputId": "e599c9bc-aafc-477f-d742-8161f7242423",
        "colab": {
          "base_uri": "https://localhost:8080/"
        }
      },
      "execution_count": 22,
      "outputs": [
        {
          "output_type": "stream",
          "name": "stdout",
          "text": [
            "Title: To Kill a Mockingbird, Author: Harper Lee, Year Published: 1960\n"
          ]
        }
      ]
    },
    {
      "cell_type": "markdown",
      "source": [
        "18.  Create a class House with attributes address and price. Create a derived class Mansion that adds an\n",
        "attribute number_of_rooms."
      ],
      "metadata": {
        "id": "Q38mz48ScJEG"
      }
    },
    {
      "cell_type": "code",
      "source": [
        "# Base class House\n",
        "class House:\n",
        "    def __init__(self, address, price):\n",
        "        self.address = address  # Address of the house\n",
        "        self.price = price      # Price of the house\n",
        "\n",
        "    def get_info(self):\n",
        "        return f\"Address: {self.address}, Price: ${self.price}\"\n",
        "\n",
        "# Derived class Mansion\n",
        "class Mansion(House):\n",
        "    def __init__(self, address, price, number_of_rooms):\n",
        "        super().__init__(address, price)  # Initialize the base class (House)\n",
        "        self.number_of_rooms = number_of_rooms  # Additional attribute for Mansion\n",
        "\n",
        "    def get_info(self):\n",
        "        # Call the base class method to get basic info and add number of rooms\n",
        "        base_info = super().get_info()\n",
        "        return f\"{base_info}, Number of Rooms: {self.number_of_rooms}\"\n",
        "\n",
        "# Create an instance of Mansion\n",
        "mansion = Mansion(\"123 Luxury Lane\", 5000000, 10)\n",
        "\n",
        "# Print the info of the mansion\n",
        "print(mansion.get_info())  # Output: Address: 123 Luxury Lane, Price: $5000000, Number of Rooms: 10\n"
      ],
      "metadata": {
        "id": "DQ57p40KcLkD",
        "outputId": "f49d7058-232d-45b8-adcd-124eb65d32d9",
        "colab": {
          "base_uri": "https://localhost:8080/"
        }
      },
      "execution_count": 23,
      "outputs": [
        {
          "output_type": "stream",
          "name": "stdout",
          "text": [
            "Address: 123 Luxury Lane, Price: $5000000, Number of Rooms: 10\n"
          ]
        }
      ]
    }
  ]
}